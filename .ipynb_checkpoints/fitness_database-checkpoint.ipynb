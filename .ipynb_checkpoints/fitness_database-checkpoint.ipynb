{
 "cells": [
  {
   "cell_type": "code",
   "execution_count": 1,
   "id": "6de4f0ab-f77b-4ea3-ba25-e952e99ac08d",
   "metadata": {},
   "outputs": [
    {
     "name": "stdout",
     "output_type": "stream",
     "text": [
      "Defaulting to user installation because normal site-packages is not writeable\n",
      "Requirement already satisfied: pymysql in c:\\users\\their\\appdata\\local\\packages\\pythonsoftwarefoundation.python.3.12_qbz5n2kfra8p0\\localcache\\local-packages\\python312\\site-packages (1.1.1)\n",
      "Note: you may need to restart the kernel to use updated packages.\n"
     ]
    }
   ],
   "source": [
    "pip install pymysql"
   ]
  },
  {
   "cell_type": "code",
   "execution_count": 1,
   "id": "6f288118-9d01-4c39-a028-28bf17b09816",
   "metadata": {},
   "outputs": [
    {
     "name": "stdout",
     "output_type": "stream",
     "text": [
      "Defaulting to user installation because normal site-packages is not writeable\n",
      "Collecting bcrypt\n",
      "  Downloading bcrypt-4.2.1-cp39-abi3-win_amd64.whl.metadata (10 kB)\n",
      "Downloading bcrypt-4.2.1-cp39-abi3-win_amd64.whl (153 kB)\n",
      "Installing collected packages: bcrypt\n",
      "Successfully installed bcrypt-4.2.1\n",
      "Note: you may need to restart the kernel to use updated packages.\n"
     ]
    }
   ],
   "source": [
    "pip install bcrypt"
   ]
  },
  {
   "cell_type": "code",
   "execution_count": 1,
   "id": "b24d1e05-bf9f-4a30-9414-e8ac6740ca24",
   "metadata": {},
   "outputs": [
    {
     "name": "stdout",
     "output_type": "stream",
     "text": [
      "Defaulting to user installation because normal site-packages is not writeable\n",
      "Requirement already satisfied: flask in c:\\users\\their\\appdata\\local\\packages\\pythonsoftwarefoundation.python.3.12_qbz5n2kfra8p0\\localcache\\local-packages\\python312\\site-packages (3.1.0)\n",
      "Requirement already satisfied: Werkzeug>=3.1 in c:\\users\\their\\appdata\\local\\packages\\pythonsoftwarefoundation.python.3.12_qbz5n2kfra8p0\\localcache\\local-packages\\python312\\site-packages (from flask) (3.1.3)\n",
      "Requirement already satisfied: Jinja2>=3.1.2 in c:\\users\\their\\appdata\\local\\packages\\pythonsoftwarefoundation.python.3.12_qbz5n2kfra8p0\\localcache\\local-packages\\python312\\site-packages (from flask) (3.1.4)\n",
      "Requirement already satisfied: itsdangerous>=2.2 in c:\\users\\their\\appdata\\local\\packages\\pythonsoftwarefoundation.python.3.12_qbz5n2kfra8p0\\localcache\\local-packages\\python312\\site-packages (from flask) (2.2.0)\n",
      "Requirement already satisfied: click>=8.1.3 in c:\\users\\their\\appdata\\local\\packages\\pythonsoftwarefoundation.python.3.12_qbz5n2kfra8p0\\localcache\\local-packages\\python312\\site-packages (from flask) (8.1.7)\n",
      "Requirement already satisfied: blinker>=1.9 in c:\\users\\their\\appdata\\local\\packages\\pythonsoftwarefoundation.python.3.12_qbz5n2kfra8p0\\localcache\\local-packages\\python312\\site-packages (from flask) (1.9.0)\n",
      "Requirement already satisfied: colorama in c:\\users\\their\\appdata\\local\\packages\\pythonsoftwarefoundation.python.3.12_qbz5n2kfra8p0\\localcache\\local-packages\\python312\\site-packages (from click>=8.1.3->flask) (0.4.6)\n",
      "Requirement already satisfied: MarkupSafe>=2.0 in c:\\users\\their\\appdata\\local\\packages\\pythonsoftwarefoundation.python.3.12_qbz5n2kfra8p0\\localcache\\local-packages\\python312\\site-packages (from Jinja2>=3.1.2->flask) (3.0.2)\n",
      "Note: you may need to restart the kernel to use updated packages.\n"
     ]
    }
   ],
   "source": [
    "pip install flask"
   ]
  },
  {
   "cell_type": "code",
   "execution_count": 31,
   "id": "ba2e5744-a38b-41cf-b4e0-e3fe48fa7930",
   "metadata": {},
   "outputs": [
    {
     "name": "stdout",
     "output_type": "stream",
     "text": [
      "Connected to MySQL!\n"
     ]
    }
   ],
   "source": [
    "import pymysql\n",
    "\n",
    "db = pymysql.connect(\n",
    "    host='localhost',\n",
    "    user='root',\n",
    "    password='yummy',\n",
    ")\n",
    "\n",
    "print(\"Connected to MySQL!\")\n",
    "\n",
    "cursor = db.cursor()\n",
    "\n",
    "cursor.execute(\"DROP DATABASE IF EXISTS fitness\")\n",
    "cursor.execute(\"CREATE DATABASE fitness\")\n",
    "db.commit()\n",
    "db.close()"
   ]
  },
  {
   "cell_type": "markdown",
   "id": "2d732f3c-632c-4c25-9fb8-5ce02d8caaf4",
   "metadata": {},
   "source": [
    "#### Execute Query"
   ]
  },
  {
   "cell_type": "code",
   "execution_count": 32,
   "id": "149c4135-bd20-44c7-aa9d-2f57baffc254",
   "metadata": {},
   "outputs": [
    {
     "name": "stdout",
     "output_type": "stream",
     "text": [
      "Success!\n"
     ]
    }
   ],
   "source": [
    "import pymysql\n",
    "\n",
    "db = pymysql.connect(\n",
    "    host='localhost',\n",
    "    user='root',\n",
    "    password='yummy',\n",
    "    database='fitness'\n",
    ")\n",
    "cursor = db.cursor()\n",
    "q1 = \"\"\"\n",
    "    CREATE TABLE Users (\n",
    "    user_id INT AUTO_INCREMENT PRIMARY KEY,\n",
    "    password_hash VARCHAR(255) NOT NULL,\n",
    "    email VARCHAR(255) UNIQUE NOT NULL,\n",
    "    name VARCHAR(255),\n",
    "    age INT CHECK (age >= 0), -- Age cannot be negative\n",
    "    height FLOAT CHECK (height >= 0), -- Height must be non-negative\n",
    "    weight FLOAT CHECK (weight >= 0), -- Weight must be non-negative\n",
    "    created_at TIMESTAMP DEFAULT CURRENT_TIMESTAMP,\n",
    "    updated_at TIMESTAMP DEFAULT CURRENT_TIMESTAMP ON UPDATE CURRENT_TIMESTAMP\n",
    ");\"\"\"\n",
    "\n",
    "q2 = \"\"\"\n",
    "    CREATE TABLE Workouts (\n",
    "    workout_id INT AUTO_INCREMENT PRIMARY KEY,\n",
    "    user_id INT NOT NULL,\n",
    "    workout_type VARCHAR(50),\n",
    "    duration INT CHECK (duration >= 0), -- Duration must be positive\n",
    "    calories_burned FLOAT CHECK (calories_burned >= 0), -- Calories burned cannot be negative\n",
    "    FOREIGN KEY (user_id) REFERENCES Users(user_id) ON DELETE CASCADE\n",
    ");\"\"\"\n",
    "\n",
    "q3 = \"\"\"\n",
    "    CREATE TABLE Exercises (\n",
    "    exercise_id INT AUTO_INCREMENT PRIMARY KEY,\n",
    "    workout_id INT NOT NULL,\n",
    "    exercise_name VARCHAR(255),\n",
    "    sets INT CHECK (sets > 0), -- Sets must be positive\n",
    "    reps_per_set INT CHECK (reps_per_set > 0), -- Reps per set must be positive\n",
    "    duration INT CHECK (duration > 0), -- Duration must be positive\n",
    "    calories_burned_per_exercise FLOAT CHECK (calories_burned_per_exercise >= 0), -- Calories cannot be negative\n",
    "    FOREIGN KEY (workout_id) REFERENCES Workouts(workout_id) ON DELETE CASCADE\n",
    ");\"\"\"\n",
    "\n",
    "q4 = \"\"\"\n",
    "    CREATE TABLE Goals (\n",
    "    goal_id INT AUTO_INCREMENT PRIMARY KEY,\n",
    "    user_id INT NOT NULL,\n",
    "    goal_type VARCHAR(50),\n",
    "    target_value FLOAT CHECK (target_value >= 0), -- Target value must be non-negative\n",
    "    current_progress FLOAT CHECK (current_progress >= 0), -- Current progress must be non-negative\n",
    "    deadline DATE,\n",
    "    created_at TIMESTAMP DEFAULT CURRENT_TIMESTAMP,\n",
    "    status VARCHAR(20),\n",
    "    FOREIGN KEY (user_id) REFERENCES Users(user_id) ON DELETE CASCADE\n",
    ");\"\"\"\n",
    "\n",
    "q5 = \"\"\"\n",
    "    CREATE TABLE Progress (\n",
    "    progress_id INT AUTO_INCREMENT PRIMARY KEY,\n",
    "    user_id INT NOT NULL,\n",
    "    date TIMESTAMP DEFAULT CURRENT_TIMESTAMP,\n",
    "    weight FLOAT CHECK (weight >= 0), -- Weight cannot be negative\n",
    "    workout_count INT DEFAULT 0 CHECK (workout_count >= 0), -- Workout count cannot be negative\n",
    "    calories_burned FLOAT DEFAULT 0 CHECK (calories_burned >= 0), -- Calories cannot be negative\n",
    "    goal_id INT,\n",
    "    FOREIGN KEY (user_id) REFERENCES Users(user_id) ON DELETE CASCADE,\n",
    "    FOREIGN KEY (goal_id) REFERENCES Goals(goal_id) ON DELETE CASCADE\n",
    ");\"\"\"\n",
    "\n",
    "q6 = \"\"\"\n",
    "    CREATE TABLE Diet (\n",
    "    diet_id INT AUTO_INCREMENT PRIMARY KEY,\n",
    "    user_id INT NOT NULL,\n",
    "    meal_type VARCHAR(50),\n",
    "    calories FLOAT CHECK (calories >= 0), -- Calories must be non-negative\n",
    "    protein FLOAT CHECK (protein >= 0), -- Protein must be non-negative\n",
    "    carbs FLOAT CHECK (carbs >= 0), -- Carbs must be non-negative\n",
    "    fats FLOAT CHECK (fats >= 0), -- Fats must be non-negative\n",
    "    date TIMESTAMP DEFAULT CURRENT_TIMESTAMP,\n",
    "    FOREIGN KEY (user_id) REFERENCES Users(user_id) ON DELETE CASCADE\n",
    ");\"\"\"\n",
    "\n",
    "cursor.execute(q1)\n",
    "cursor.execute(q2)\n",
    "cursor.execute(q3)\n",
    "cursor.execute(q4)\n",
    "cursor.execute(q5)\n",
    "cursor.execute(q6)\n",
    "print(\"Success!\")\n",
    "\n",
    "db.commit()\n",
    "db.close()"
   ]
  },
  {
   "cell_type": "markdown",
   "id": "7d552d44-6aac-4505-accb-3fa85791a157",
   "metadata": {},
   "source": [
    "#### Sample Data"
   ]
  },
  {
   "cell_type": "code",
   "execution_count": 3,
   "id": "6c86df2a-da64-4cc4-8479-425f64d5626a",
   "metadata": {},
   "outputs": [
    {
     "name": "stdout",
     "output_type": "stream",
     "text": [
      "Sample data inserted successfully.\n"
     ]
    }
   ],
   "source": [
    "import pymysql\n",
    "\n",
    "db = pymysql.connect(\n",
    "    host='localhost',\n",
    "    user='root',\n",
    "    password='yummy',\n",
    "    database='fitness'\n",
    ")\n",
    "cursor = db.cursor()\n",
    "\n",
    "# Insert sample data into Users\n",
    "q1 = \"\"\"\n",
    "    INSERT INTO Users (email, name, age, height, weight) \n",
    "    VALUES \n",
    "    ('john.doe@example.com', 'John Doe', 30, 175.0, 75.0),\n",
    "    ('jane.smith@example.com', 'Jane Smith', 25, 160.0, 60.0),\n",
    "    ('mike.jones@example.com', 'Mike Jones', 35, 180.0, 85.0);\n",
    "\"\"\"\n",
    "\n",
    "# Insert sample data into Workouts\n",
    "q2 = \"\"\"\n",
    "    INSERT INTO Workouts (user_id, workout_type, duration, calories_burned, notes) \n",
    "    VALUES \n",
    "    (1, 'Running', 30, 300.0, 'Morning jog'),\n",
    "    (2, 'Cycling', 45, 350.0, 'Weekend ride'),\n",
    "    (3, 'Swimming', 60, 500.0, 'Long pool session');\n",
    "\"\"\"\n",
    "\n",
    "# Insert sample data into Exercises\n",
    "q3 = \"\"\"\n",
    "    INSERT INTO Exercises (workout_id, exercise_name, sets, reps_per_set, duration, calories_burned_per_exercise)\n",
    "    VALUES\n",
    "    (1, 'Push-ups', 3, 15, 5, 50.0),\n",
    "    (1, 'Squats', 3, 20, 5, 40.0),\n",
    "    (2, 'Leg Press', 3, 12, 10, 70.0);\n",
    "\"\"\"\n",
    "\n",
    "# Insert sample data into Goals\n",
    "q4 = \"\"\"\n",
    "    INSERT INTO Goals (user_id, goal_type, target_value, current_progress, deadline, status)\n",
    "    VALUES \n",
    "    (1, 'Weight Loss', 70.0, 75.0, '2024-06-01', 'Active'),\n",
    "    (2, 'Endurance', 60.0, 50.0, '2024-12-01', 'Active');\n",
    "\"\"\"\n",
    "\n",
    "# Insert sample data into Progress\n",
    "q5 = \"\"\"\n",
    "    INSERT INTO Progress (user_id, weight, workout_count, calories_burned, goal_id) \n",
    "    VALUES \n",
    "    (1, 75.0, 5, 1500.0, 1),\n",
    "    (2, 60.0, 8, 2500.0, 2);\n",
    "\"\"\"\n",
    "\n",
    "# Insert sample data into Diet\n",
    "q6 = \"\"\"\n",
    "    INSERT INTO Diet (user_id, meal_type, calories, protein, carbs, fats) \n",
    "    VALUES \n",
    "    (1, 'Breakfast', 500, 30, 50, 15),\n",
    "    (2, 'Lunch', 600, 40, 60, 20);\n",
    "\"\"\"\n",
    "\n",
    "# Execute queries to insert the sample data\n",
    "cursor.execute(q1)\n",
    "cursor.execute(q2)\n",
    "cursor.execute(q3)\n",
    "cursor.execute(q4)\n",
    "cursor.execute(q5)\n",
    "cursor.execute(q6)\n",
    "\n",
    "# Commit the changes to the database\n",
    "db.commit()\n",
    "\n",
    "print(\"Sample data inserted successfully.\")\n",
    "\n",
    "# Close the connection\n",
    "db.close()\n"
   ]
  },
  {
   "cell_type": "markdown",
   "id": "77e5971d-7c9b-4a1a-88b3-28210554ee4a",
   "metadata": {},
   "source": [
    "#### Triggers\n"
   ]
  },
  {
   "cell_type": "code",
   "execution_count": 33,
   "id": "321905de-f2a5-4db1-aa23-f7ef8f3ea7c0",
   "metadata": {},
   "outputs": [
    {
     "name": "stdout",
     "output_type": "stream",
     "text": [
      "Trigger 'UpdateProgress' has been created.\n"
     ]
    }
   ],
   "source": [
    "import pymysql\n",
    "\n",
    "# Connect to the database\n",
    "db = pymysql.connect(\n",
    "    host='localhost',\n",
    "    user='root',\n",
    "    password='yummy',\n",
    "    database='fitness'\n",
    ")\n",
    "cursor = db.cursor()\n",
    "try:\n",
    "    trigger_sql = \"\"\"\n",
    "    CREATE TRIGGER UpdateProgress\n",
    "    AFTER INSERT ON Workouts\n",
    "    FOR EACH ROW\n",
    "    BEGIN\n",
    "        -- Check if a Progress entry exists for the user_id\n",
    "        IF NOT EXISTS (\n",
    "            SELECT 1 \n",
    "            FROM Progress \n",
    "            WHERE user_id = NEW.user_id\n",
    "        ) THEN\n",
    "            -- Insert a new Progress record with the initial details\n",
    "            INSERT INTO Progress (user_id, weight, workout_count, calories_burned, date)\n",
    "            VALUES (\n",
    "                NEW.user_id,\n",
    "                (SELECT weight FROM Users WHERE user_id = NEW.user_id), -- Fetch current user weight\n",
    "                1, -- First workout\n",
    "                NEW.calories_burned -- Initial calories burned\n",
    "                CURRENT_TIMESTAMP -- Set the current timestamp as the date\n",
    "            );\n",
    "        ELSE\n",
    "            -- Update the existing Progress entry for this user\n",
    "            UPDATE Progress\n",
    "            SET \n",
    "                workout_count = workout_count + 1,\n",
    "                calories_burned = calories_burned + NEW.calories_burned\n",
    "            WHERE user_id = NEW.user_id;\n",
    "        END IF;\n",
    "    END\n",
    "    \"\"\"\n",
    "    cursor.execute(trigger_sql)\n",
    "    db.commit()\n",
    "    print(\"Trigger 'UpdateProgress' has been created.\")\n",
    "except Exception as e:\n",
    "    print(f\"Error: {e}\")\n",
    "finally:\n",
    "    db.close()\n"
   ]
  },
  {
   "cell_type": "code",
   "execution_count": 34,
   "id": "961a15cf-bddc-4090-80a3-352b76645d5d",
   "metadata": {},
   "outputs": [
    {
     "name": "stdout",
     "output_type": "stream",
     "text": [
      "Trigger 'UpdateProgressAfterWorkoutUpdate' has been created.\n"
     ]
    }
   ],
   "source": [
    "import pymysql\n",
    "\n",
    "# Connect to the database\n",
    "db = pymysql.connect(\n",
    "    host='localhost',\n",
    "    user='root',\n",
    "    password='yummy',\n",
    "    database='fitness'\n",
    ")\n",
    "cursor = db.cursor()\n",
    "\n",
    "try:\n",
    "    trigger_sql3 = \"\"\"\n",
    "    CREATE TRIGGER UpdateProgressAfterWorkoutUpdate AFTER UPDATE ON Workouts\n",
    "    FOR EACH ROW\n",
    "    BEGIN\n",
    "        UPDATE Progress\n",
    "        SET \n",
    "            workout_count = (\n",
    "                SELECT COUNT(*)\n",
    "                FROM Workouts\n",
    "                WHERE user_id = OLD.user_id\n",
    "            ),\n",
    "            calories_burned = (\n",
    "                SELECT COALESCE(SUM(calories_burned), 0)\n",
    "                FROM Workouts\n",
    "                WHERE user_id = OLD.user_id\n",
    "            )\n",
    "        WHERE user_id = OLD.user_id;\n",
    "    END\n",
    "    \"\"\"\n",
    "    cursor.execute(trigger_sql3)\n",
    "    db.commit()\n",
    "    print(\"Trigger 'UpdateProgressAfterWorkoutUpdate' has been created.\")\n",
    "except Exception as e:\n",
    "    print(f\"Error: {e}\")\n",
    "finally:\n",
    "    db.close()"
   ]
  },
  {
   "cell_type": "code",
   "execution_count": 35,
   "id": "95e7f32a-f577-4227-aec4-9ee5cb223b50",
   "metadata": {},
   "outputs": [
    {
     "name": "stdout",
     "output_type": "stream",
     "text": [
      "Trigger 'UpdateProgressAfterWorkoutDelete' has been created.\n"
     ]
    }
   ],
   "source": [
    "import pymysql\n",
    "\n",
    "# Connect to the database\n",
    "db = pymysql.connect(\n",
    "    host='localhost',\n",
    "    user='root',\n",
    "    password='yummy',\n",
    "    database='fitness'\n",
    ")\n",
    "cursor = db.cursor()\n",
    "\n",
    "try:\n",
    "    trigger_sql4 = \"\"\"\n",
    "    CREATE TRIGGER UpdateProgressAfterWorkoutDelete AFTER DELETE ON Workouts\n",
    "    FOR EACH ROW\n",
    "    BEGIN\n",
    "        UPDATE Progress\n",
    "        SET \n",
    "            workout_count = (\n",
    "                SELECT COUNT(*)\n",
    "                FROM Workouts\n",
    "                WHERE user_id = OLD.user_id\n",
    "            ),\n",
    "            calories_burned = (\n",
    "                SELECT COALESCE(SUM(calories_burned), 0)\n",
    "                FROM Workouts\n",
    "                WHERE user_id = OLD.user_id\n",
    "            )\n",
    "        WHERE user_id = OLD.user_id;\n",
    "    END \n",
    "    \"\"\"\n",
    "    cursor.execute(trigger_sql4)\n",
    "    db.commit()\n",
    "    print(\"Trigger 'UpdateProgressAfterWorkoutDelete' has been created.\")\n",
    "except Exception as e:\n",
    "    print(f\"Error: {e}\")\n",
    "finally:\n",
    "    db.close()"
   ]
  },
  {
   "cell_type": "code",
   "execution_count": 36,
   "id": "dc350248-50aa-4536-bf50-b1afb6b02a77",
   "metadata": {},
   "outputs": [
    {
     "name": "stdout",
     "output_type": "stream",
     "text": [
      "Trigger 'UpdateWorkoutCalories' has been created.\n"
     ]
    }
   ],
   "source": [
    "import pymysql\n",
    "\n",
    "# Connect to the database\n",
    "db = pymysql.connect(\n",
    "    host='localhost',\n",
    "    user='root',\n",
    "    password='yummy',\n",
    "    database='fitness'\n",
    ")\n",
    "cursor = db.cursor()\n",
    "\n",
    "try:\n",
    "    trigger_sql2 = \"\"\"\n",
    "    CREATE TRIGGER UpdateWorkoutDetails \n",
    "    AFTER INSERT ON Exercises\n",
    "    FOR EACH ROW\n",
    "    BEGIN\n",
    "        UPDATE Workouts\n",
    "        SET \n",
    "            calories_burned = (\n",
    "                SELECT COALESCE(SUM(calories_burned_per_exercise), 0)\n",
    "                FROM Exercises\n",
    "                WHERE workout_id = NEW.workout_id\n",
    "            ),\n",
    "            duration = (\n",
    "                SELECT COALESCE(SUM(duration), 0)\n",
    "                FROM Exercises\n",
    "                WHERE workout_id = NEW.workout_id\n",
    "            )\n",
    "        WHERE workout_id = NEW.workout_id;\n",
    "    END\n",
    "    \"\"\"\n",
    "    cursor.execute(trigger_sql2)\n",
    "    db.commit()\n",
    "    print(\"Trigger 'UpdateWorkoutDetails' has been created.\")\n",
    "except Exception as e:\n",
    "    print(f\"Error: {e}\")\n",
    "finally:\n",
    "    db.close()"
   ]
  },
  {
   "cell_type": "markdown",
   "id": "e53ffd76-88bb-4d28-85f4-b11efd211699",
   "metadata": {},
   "source": [
    "#### Creating Procedure"
   ]
  },
  {
   "cell_type": "code",
   "execution_count": 37,
   "id": "d1fcc221-4bb7-4bc0-9ae7-87744374b21f",
   "metadata": {},
   "outputs": [
    {
     "name": "stdout",
     "output_type": "stream",
     "text": [
      "procedure created\n"
     ]
    }
   ],
   "source": [
    "import pymysql\n",
    "\n",
    "db = pymysql.connect(\n",
    "    host='localhost',\n",
    "    user='root',\n",
    "    password='yummy',\n",
    "    database='fitness'\n",
    ")\n",
    "cursor = db.cursor()\n",
    "try:\n",
    "    procedure_sql = \"\"\"\n",
    "    CREATE PROCEDURE GetUserWorkouts (IN userId INT)\n",
    "    BEGIN\n",
    "        SELECT workout_id, workout_type, duration, calories_burned\n",
    "        FROM Workouts\n",
    "        WHERE user_id = userId;\n",
    "    END \n",
    "    \"\"\"\n",
    "    cursor.execute(procedure_sql)\n",
    "    db.commit()\n",
    "    print (\"procedure created\")\n",
    "except Exception as e:\n",
    "    print(f\"Error occurred while creating procedure: {e}\")\n",
    "finally:\n",
    "    db.close()"
   ]
  },
  {
   "cell_type": "code",
   "execution_count": null,
   "id": "c5bc0f43-03e3-4be4-854e-c88f0042b3db",
   "metadata": {},
   "outputs": [],
   "source": []
  }
 ],
 "metadata": {
  "kernelspec": {
   "display_name": "Python 3 (ipykernel)",
   "language": "python",
   "name": "python3"
  },
  "language_info": {
   "codemirror_mode": {
    "name": "ipython",
    "version": 3
   },
   "file_extension": ".py",
   "mimetype": "text/x-python",
   "name": "python",
   "nbconvert_exporter": "python",
   "pygments_lexer": "ipython3",
   "version": "3.12.7"
  }
 },
 "nbformat": 4,
 "nbformat_minor": 5
}
