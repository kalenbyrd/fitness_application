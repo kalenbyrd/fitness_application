{
 "cells": [
  {
   "cell_type": "code",
   "execution_count": 1,
   "id": "6de4f0ab-f77b-4ea3-ba25-e952e99ac08d",
   "metadata": {},
   "outputs": [
    {
     "name": "stdout",
     "output_type": "stream",
     "text": [
      "Defaulting to user installation because normal site-packages is not writeable\n",
      "Requirement already satisfied: pymysql in c:\\users\\their\\appdata\\local\\packages\\pythonsoftwarefoundation.python.3.12_qbz5n2kfra8p0\\localcache\\local-packages\\python312\\site-packages (1.1.1)\n",
      "Note: you may need to restart the kernel to use updated packages.\n"
     ]
    }
   ],
   "source": [
    "pip install pymysql"
   ]
  },
  {
   "cell_type": "code",
   "execution_count": 1,
   "id": "b24d1e05-bf9f-4a30-9414-e8ac6740ca24",
   "metadata": {},
   "outputs": [
    {
     "name": "stdout",
     "output_type": "stream",
     "text": [
      "Defaulting to user installation because normal site-packages is not writeable\n",
      "Requirement already satisfied: flask in c:\\users\\their\\appdata\\local\\packages\\pythonsoftwarefoundation.python.3.12_qbz5n2kfra8p0\\localcache\\local-packages\\python312\\site-packages (3.1.0)\n",
      "Requirement already satisfied: Werkzeug>=3.1 in c:\\users\\their\\appdata\\local\\packages\\pythonsoftwarefoundation.python.3.12_qbz5n2kfra8p0\\localcache\\local-packages\\python312\\site-packages (from flask) (3.1.3)\n",
      "Requirement already satisfied: Jinja2>=3.1.2 in c:\\users\\their\\appdata\\local\\packages\\pythonsoftwarefoundation.python.3.12_qbz5n2kfra8p0\\localcache\\local-packages\\python312\\site-packages (from flask) (3.1.4)\n",
      "Requirement already satisfied: itsdangerous>=2.2 in c:\\users\\their\\appdata\\local\\packages\\pythonsoftwarefoundation.python.3.12_qbz5n2kfra8p0\\localcache\\local-packages\\python312\\site-packages (from flask) (2.2.0)\n",
      "Requirement already satisfied: click>=8.1.3 in c:\\users\\their\\appdata\\local\\packages\\pythonsoftwarefoundation.python.3.12_qbz5n2kfra8p0\\localcache\\local-packages\\python312\\site-packages (from flask) (8.1.7)\n",
      "Requirement already satisfied: blinker>=1.9 in c:\\users\\their\\appdata\\local\\packages\\pythonsoftwarefoundation.python.3.12_qbz5n2kfra8p0\\localcache\\local-packages\\python312\\site-packages (from flask) (1.9.0)\n",
      "Requirement already satisfied: colorama in c:\\users\\their\\appdata\\local\\packages\\pythonsoftwarefoundation.python.3.12_qbz5n2kfra8p0\\localcache\\local-packages\\python312\\site-packages (from click>=8.1.3->flask) (0.4.6)\n",
      "Requirement already satisfied: MarkupSafe>=2.0 in c:\\users\\their\\appdata\\local\\packages\\pythonsoftwarefoundation.python.3.12_qbz5n2kfra8p0\\localcache\\local-packages\\python312\\site-packages (from Jinja2>=3.1.2->flask) (3.0.2)\n",
      "Note: you may need to restart the kernel to use updated packages.\n"
     ]
    }
   ],
   "source": [
    "pip install flask"
   ]
  },
  {
   "cell_type": "code",
   "execution_count": 2,
   "id": "ba2e5744-a38b-41cf-b4e0-e3fe48fa7930",
   "metadata": {},
   "outputs": [
    {
     "name": "stdout",
     "output_type": "stream",
     "text": [
      "Connected to MySQL!\n"
     ]
    },
    {
     "ename": "ProgrammingError",
     "evalue": "(1007, \"Can't create database 'fitness'; database exists\")",
     "output_type": "error",
     "traceback": [
      "\u001b[1;31m---------------------------------------------------------------------------\u001b[0m",
      "\u001b[1;31mProgrammingError\u001b[0m                          Traceback (most recent call last)",
      "Cell \u001b[1;32mIn[2], line 13\u001b[0m\n\u001b[0;32m      9\u001b[0m \u001b[38;5;28mprint\u001b[39m(\u001b[38;5;124m\"\u001b[39m\u001b[38;5;124mConnected to MySQL!\u001b[39m\u001b[38;5;124m\"\u001b[39m)\n\u001b[0;32m     11\u001b[0m cursor \u001b[38;5;241m=\u001b[39m db\u001b[38;5;241m.\u001b[39mcursor()\n\u001b[1;32m---> 13\u001b[0m \u001b[43mcursor\u001b[49m\u001b[38;5;241;43m.\u001b[39;49m\u001b[43mexecute\u001b[49m\u001b[43m(\u001b[49m\u001b[38;5;124;43m'\u001b[39;49m\u001b[38;5;124;43mCREATE DATABASE fitness;\u001b[39;49m\u001b[38;5;124;43m'\u001b[39;49m\u001b[43m)\u001b[49m\n\u001b[0;32m     14\u001b[0m db\u001b[38;5;241m.\u001b[39mcommit()\n\u001b[0;32m     15\u001b[0m db\u001b[38;5;241m.\u001b[39mclose()\n",
      "File \u001b[1;32m~\\AppData\\Local\\Packages\\PythonSoftwareFoundation.Python.3.12_qbz5n2kfra8p0\\LocalCache\\local-packages\\Python312\\site-packages\\pymysql\\cursors.py:153\u001b[0m, in \u001b[0;36mCursor.execute\u001b[1;34m(self, query, args)\u001b[0m\n\u001b[0;32m    149\u001b[0m     \u001b[38;5;28;01mpass\u001b[39;00m\n\u001b[0;32m    151\u001b[0m query \u001b[38;5;241m=\u001b[39m \u001b[38;5;28mself\u001b[39m\u001b[38;5;241m.\u001b[39mmogrify(query, args)\n\u001b[1;32m--> 153\u001b[0m result \u001b[38;5;241m=\u001b[39m \u001b[38;5;28;43mself\u001b[39;49m\u001b[38;5;241;43m.\u001b[39;49m\u001b[43m_query\u001b[49m\u001b[43m(\u001b[49m\u001b[43mquery\u001b[49m\u001b[43m)\u001b[49m\n\u001b[0;32m    154\u001b[0m \u001b[38;5;28mself\u001b[39m\u001b[38;5;241m.\u001b[39m_executed \u001b[38;5;241m=\u001b[39m query\n\u001b[0;32m    155\u001b[0m \u001b[38;5;28;01mreturn\u001b[39;00m result\n",
      "File \u001b[1;32m~\\AppData\\Local\\Packages\\PythonSoftwareFoundation.Python.3.12_qbz5n2kfra8p0\\LocalCache\\local-packages\\Python312\\site-packages\\pymysql\\cursors.py:322\u001b[0m, in \u001b[0;36mCursor._query\u001b[1;34m(self, q)\u001b[0m\n\u001b[0;32m    320\u001b[0m conn \u001b[38;5;241m=\u001b[39m \u001b[38;5;28mself\u001b[39m\u001b[38;5;241m.\u001b[39m_get_db()\n\u001b[0;32m    321\u001b[0m \u001b[38;5;28mself\u001b[39m\u001b[38;5;241m.\u001b[39m_clear_result()\n\u001b[1;32m--> 322\u001b[0m \u001b[43mconn\u001b[49m\u001b[38;5;241;43m.\u001b[39;49m\u001b[43mquery\u001b[49m\u001b[43m(\u001b[49m\u001b[43mq\u001b[49m\u001b[43m)\u001b[49m\n\u001b[0;32m    323\u001b[0m \u001b[38;5;28mself\u001b[39m\u001b[38;5;241m.\u001b[39m_do_get_result()\n\u001b[0;32m    324\u001b[0m \u001b[38;5;28;01mreturn\u001b[39;00m \u001b[38;5;28mself\u001b[39m\u001b[38;5;241m.\u001b[39mrowcount\n",
      "File \u001b[1;32m~\\AppData\\Local\\Packages\\PythonSoftwareFoundation.Python.3.12_qbz5n2kfra8p0\\LocalCache\\local-packages\\Python312\\site-packages\\pymysql\\connections.py:563\u001b[0m, in \u001b[0;36mConnection.query\u001b[1;34m(self, sql, unbuffered)\u001b[0m\n\u001b[0;32m    561\u001b[0m     sql \u001b[38;5;241m=\u001b[39m sql\u001b[38;5;241m.\u001b[39mencode(\u001b[38;5;28mself\u001b[39m\u001b[38;5;241m.\u001b[39mencoding, \u001b[38;5;124m\"\u001b[39m\u001b[38;5;124msurrogateescape\u001b[39m\u001b[38;5;124m\"\u001b[39m)\n\u001b[0;32m    562\u001b[0m \u001b[38;5;28mself\u001b[39m\u001b[38;5;241m.\u001b[39m_execute_command(COMMAND\u001b[38;5;241m.\u001b[39mCOM_QUERY, sql)\n\u001b[1;32m--> 563\u001b[0m \u001b[38;5;28mself\u001b[39m\u001b[38;5;241m.\u001b[39m_affected_rows \u001b[38;5;241m=\u001b[39m \u001b[38;5;28;43mself\u001b[39;49m\u001b[38;5;241;43m.\u001b[39;49m\u001b[43m_read_query_result\u001b[49m\u001b[43m(\u001b[49m\u001b[43munbuffered\u001b[49m\u001b[38;5;241;43m=\u001b[39;49m\u001b[43munbuffered\u001b[49m\u001b[43m)\u001b[49m\n\u001b[0;32m    564\u001b[0m \u001b[38;5;28;01mreturn\u001b[39;00m \u001b[38;5;28mself\u001b[39m\u001b[38;5;241m.\u001b[39m_affected_rows\n",
      "File \u001b[1;32m~\\AppData\\Local\\Packages\\PythonSoftwareFoundation.Python.3.12_qbz5n2kfra8p0\\LocalCache\\local-packages\\Python312\\site-packages\\pymysql\\connections.py:825\u001b[0m, in \u001b[0;36mConnection._read_query_result\u001b[1;34m(self, unbuffered)\u001b[0m\n\u001b[0;32m    823\u001b[0m \u001b[38;5;28;01melse\u001b[39;00m:\n\u001b[0;32m    824\u001b[0m     result \u001b[38;5;241m=\u001b[39m MySQLResult(\u001b[38;5;28mself\u001b[39m)\n\u001b[1;32m--> 825\u001b[0m     \u001b[43mresult\u001b[49m\u001b[38;5;241;43m.\u001b[39;49m\u001b[43mread\u001b[49m\u001b[43m(\u001b[49m\u001b[43m)\u001b[49m\n\u001b[0;32m    826\u001b[0m \u001b[38;5;28mself\u001b[39m\u001b[38;5;241m.\u001b[39m_result \u001b[38;5;241m=\u001b[39m result\n\u001b[0;32m    827\u001b[0m \u001b[38;5;28;01mif\u001b[39;00m result\u001b[38;5;241m.\u001b[39mserver_status \u001b[38;5;129;01mis\u001b[39;00m \u001b[38;5;129;01mnot\u001b[39;00m \u001b[38;5;28;01mNone\u001b[39;00m:\n",
      "File \u001b[1;32m~\\AppData\\Local\\Packages\\PythonSoftwareFoundation.Python.3.12_qbz5n2kfra8p0\\LocalCache\\local-packages\\Python312\\site-packages\\pymysql\\connections.py:1199\u001b[0m, in \u001b[0;36mMySQLResult.read\u001b[1;34m(self)\u001b[0m\n\u001b[0;32m   1197\u001b[0m \u001b[38;5;28;01mdef\u001b[39;00m \u001b[38;5;21mread\u001b[39m(\u001b[38;5;28mself\u001b[39m):\n\u001b[0;32m   1198\u001b[0m     \u001b[38;5;28;01mtry\u001b[39;00m:\n\u001b[1;32m-> 1199\u001b[0m         first_packet \u001b[38;5;241m=\u001b[39m \u001b[38;5;28;43mself\u001b[39;49m\u001b[38;5;241;43m.\u001b[39;49m\u001b[43mconnection\u001b[49m\u001b[38;5;241;43m.\u001b[39;49m\u001b[43m_read_packet\u001b[49m\u001b[43m(\u001b[49m\u001b[43m)\u001b[49m\n\u001b[0;32m   1201\u001b[0m         \u001b[38;5;28;01mif\u001b[39;00m first_packet\u001b[38;5;241m.\u001b[39mis_ok_packet():\n\u001b[0;32m   1202\u001b[0m             \u001b[38;5;28mself\u001b[39m\u001b[38;5;241m.\u001b[39m_read_ok_packet(first_packet)\n",
      "File \u001b[1;32m~\\AppData\\Local\\Packages\\PythonSoftwareFoundation.Python.3.12_qbz5n2kfra8p0\\LocalCache\\local-packages\\Python312\\site-packages\\pymysql\\connections.py:775\u001b[0m, in \u001b[0;36mConnection._read_packet\u001b[1;34m(self, packet_type)\u001b[0m\n\u001b[0;32m    773\u001b[0m     \u001b[38;5;28;01mif\u001b[39;00m \u001b[38;5;28mself\u001b[39m\u001b[38;5;241m.\u001b[39m_result \u001b[38;5;129;01mis\u001b[39;00m \u001b[38;5;129;01mnot\u001b[39;00m \u001b[38;5;28;01mNone\u001b[39;00m \u001b[38;5;129;01mand\u001b[39;00m \u001b[38;5;28mself\u001b[39m\u001b[38;5;241m.\u001b[39m_result\u001b[38;5;241m.\u001b[39munbuffered_active \u001b[38;5;129;01mis\u001b[39;00m \u001b[38;5;28;01mTrue\u001b[39;00m:\n\u001b[0;32m    774\u001b[0m         \u001b[38;5;28mself\u001b[39m\u001b[38;5;241m.\u001b[39m_result\u001b[38;5;241m.\u001b[39munbuffered_active \u001b[38;5;241m=\u001b[39m \u001b[38;5;28;01mFalse\u001b[39;00m\n\u001b[1;32m--> 775\u001b[0m     \u001b[43mpacket\u001b[49m\u001b[38;5;241;43m.\u001b[39;49m\u001b[43mraise_for_error\u001b[49m\u001b[43m(\u001b[49m\u001b[43m)\u001b[49m\n\u001b[0;32m    776\u001b[0m \u001b[38;5;28;01mreturn\u001b[39;00m packet\n",
      "File \u001b[1;32m~\\AppData\\Local\\Packages\\PythonSoftwareFoundation.Python.3.12_qbz5n2kfra8p0\\LocalCache\\local-packages\\Python312\\site-packages\\pymysql\\protocol.py:219\u001b[0m, in \u001b[0;36mMysqlPacket.raise_for_error\u001b[1;34m(self)\u001b[0m\n\u001b[0;32m    217\u001b[0m \u001b[38;5;28;01mif\u001b[39;00m DEBUG:\n\u001b[0;32m    218\u001b[0m     \u001b[38;5;28mprint\u001b[39m(\u001b[38;5;124m\"\u001b[39m\u001b[38;5;124merrno =\u001b[39m\u001b[38;5;124m\"\u001b[39m, errno)\n\u001b[1;32m--> 219\u001b[0m \u001b[43merr\u001b[49m\u001b[38;5;241;43m.\u001b[39;49m\u001b[43mraise_mysql_exception\u001b[49m\u001b[43m(\u001b[49m\u001b[38;5;28;43mself\u001b[39;49m\u001b[38;5;241;43m.\u001b[39;49m\u001b[43m_data\u001b[49m\u001b[43m)\u001b[49m\n",
      "File \u001b[1;32m~\\AppData\\Local\\Packages\\PythonSoftwareFoundation.Python.3.12_qbz5n2kfra8p0\\LocalCache\\local-packages\\Python312\\site-packages\\pymysql\\err.py:150\u001b[0m, in \u001b[0;36mraise_mysql_exception\u001b[1;34m(data)\u001b[0m\n\u001b[0;32m    148\u001b[0m \u001b[38;5;28;01mif\u001b[39;00m errorclass \u001b[38;5;129;01mis\u001b[39;00m \u001b[38;5;28;01mNone\u001b[39;00m:\n\u001b[0;32m    149\u001b[0m     errorclass \u001b[38;5;241m=\u001b[39m InternalError \u001b[38;5;28;01mif\u001b[39;00m errno \u001b[38;5;241m<\u001b[39m \u001b[38;5;241m1000\u001b[39m \u001b[38;5;28;01melse\u001b[39;00m OperationalError\n\u001b[1;32m--> 150\u001b[0m \u001b[38;5;28;01mraise\u001b[39;00m errorclass(errno, errval)\n",
      "\u001b[1;31mProgrammingError\u001b[0m: (1007, \"Can't create database 'fitness'; database exists\")"
     ]
    }
   ],
   "source": [
    "import pymysql\n",
    "\n",
    "db = pymysql.connect(\n",
    "    host='localhost',\n",
    "    user='root',\n",
    "    password='yummy',\n",
    ")\n",
    "\n",
    "print(\"Connected to MySQL!\")\n",
    "\n",
    "cursor = db.cursor()\n",
    "\n",
    "cursor.execute(\"CREATE DATABASE fitness\")\n",
    "db.commit()\n",
    "db.close()"
   ]
  },
  {
   "cell_type": "markdown",
   "id": "2d732f3c-632c-4c25-9fb8-5ce02d8caaf4",
   "metadata": {},
   "source": [
    "#### Execute Query"
   ]
  },
  {
   "cell_type": "code",
   "execution_count": 3,
   "id": "149c4135-bd20-44c7-aa9d-2f57baffc254",
   "metadata": {},
   "outputs": [
    {
     "name": "stdout",
     "output_type": "stream",
     "text": [
      "Success!\n"
     ]
    }
   ],
   "source": [
    "import pymysql\n",
    "\n",
    "db = pymysql.connect(\n",
    "    host='localhost',\n",
    "    user='root',\n",
    "    password='yummy',\n",
    "    database='fitness'\n",
    ")\n",
    "cursor = db.cursor()\n",
    "q1 = \"\"\"\n",
    "    CREATE TABLE Users (\n",
    "    user_id INT AUTO_INCREMENT PRIMARY KEY,\n",
    "    email VARCHAR(255) UNIQUE NOT NULL,\n",
    "    name VARCHAR(255),\n",
    "    age INT CHECK (age >= 0), -- Age cannot be negative\n",
    "    height FLOAT CHECK (height >= 0), -- Height must be non-negative\n",
    "    weight FLOAT CHECK (weight >= 0), -- Weight must be non-negative\n",
    "    created_at TIMESTAMP DEFAULT CURRENT_TIMESTAMP,\n",
    "    updated_at TIMESTAMP DEFAULT CURRENT_TIMESTAMP ON UPDATE CURRENT_TIMESTAMP\n",
    ");\"\"\"\n",
    "\n",
    "q2 = \"\"\"\n",
    "    CREATE TABLE Workouts (\n",
    "    workout_id INT AUTO_INCREMENT PRIMARY KEY,\n",
    "    user_id INT NOT NULL,\n",
    "    workout_type VARCHAR(50),\n",
    "    duration INT CHECK (duration > 0), -- Duration must be positive\n",
    "    calories_burned FLOAT CHECK (calories_burned >= 0), -- Calories burned cannot be negative\n",
    "    notes TEXT,\n",
    "    FOREIGN KEY (user_id) REFERENCES Users(user_id) ON DELETE CASCADE\n",
    ");\"\"\"\n",
    "\n",
    "q3 = \"\"\"\n",
    "    CREATE TABLE Exercises (\n",
    "    exercise_id INT AUTO_INCREMENT PRIMARY KEY,\n",
    "    workout_id INT NOT NULL,\n",
    "    exercise_name VARCHAR(255),\n",
    "    sets INT CHECK (sets > 0), -- Sets must be positive\n",
    "    reps_per_set INT CHECK (reps_per_set > 0), -- Reps per set must be positive\n",
    "    duration INT CHECK (duration > 0), -- Duration must be positive\n",
    "    calories_burned_per_exercise FLOAT CHECK (calories_burned_per_exercise >= 0), -- Calories cannot be negative\n",
    "    FOREIGN KEY (workout_id) REFERENCES Workouts(workout_id) ON DELETE CASCADE\n",
    ");\"\"\"\n",
    "\n",
    "q4 = \"\"\"\n",
    "    CREATE TABLE Goals (\n",
    "    goal_id INT AUTO_INCREMENT PRIMARY KEY,\n",
    "    user_id INT NOT NULL,\n",
    "    goal_type VARCHAR(50),\n",
    "    target_value FLOAT CHECK (target_value >= 0), -- Target value must be non-negative\n",
    "    current_progress FLOAT CHECK (current_progress >= 0), -- Current progress must be non-negative\n",
    "    deadline DATE,\n",
    "    created_at TIMESTAMP DEFAULT CURRENT_TIMESTAMP,\n",
    "    status VARCHAR(20),\n",
    "    FOREIGN KEY (user_id) REFERENCES Users(user_id) ON DELETE CASCADE\n",
    ");\"\"\"\n",
    "\n",
    "q5 = \"\"\"\n",
    "    CREATE TABLE Progress (\n",
    "    progress_id INT AUTO_INCREMENT PRIMARY KEY,\n",
    "    user_id INT NOT NULL,\n",
    "    date TIMESTAMP DEFAULT CURRENT_TIMESTAMP,\n",
    "    weight FLOAT CHECK (weight >= 0), -- Weight cannot be negative\n",
    "    workout_count INT DEFAULT 0 CHECK (workout_count >= 0), -- Workout count cannot be negative\n",
    "    calories_burned FLOAT DEFAULT 0 CHECK (calories_burned >= 0), -- Calories cannot be negative\n",
    "    goal_id INT,\n",
    "    FOREIGN KEY (user_id) REFERENCES Users(user_id) ON DELETE CASCADE,\n",
    "    FOREIGN KEY (goal_id) REFERENCES Goals(goal_id) ON DELETE CASCADE\n",
    ");\"\"\"\n",
    "\n",
    "q6 = \"\"\"\n",
    "    CREATE TABLE Diet (\n",
    "    diet_id INT AUTO_INCREMENT PRIMARY KEY,\n",
    "    user_id INT NOT NULL,\n",
    "    meal_type VARCHAR(50),\n",
    "    calories FLOAT CHECK (calories >= 0), -- Calories must be non-negative\n",
    "    protein FLOAT CHECK (protein >= 0), -- Protein must be non-negative\n",
    "    carbs FLOAT CHECK (carbs >= 0), -- Carbs must be non-negative\n",
    "    fats FLOAT CHECK (fats >= 0), -- Fats must be non-negative\n",
    "    date TIMESTAMP DEFAULT CURRENT_TIMESTAMP,\n",
    "    FOREIGN KEY (user_id) REFERENCES Users(user_id) ON DELETE CASCADE\n",
    ");\"\"\"\n",
    "\n",
    "cursor.execute(q1)\n",
    "cursor.execute(q2)\n",
    "cursor.execute(q3)\n",
    "cursor.execute(q4)\n",
    "cursor.execute(q5)\n",
    "cursor.execute(q6)\n",
    "print(\"Success!\")\n",
    "\n",
    "db.commit()\n",
    "db.close()"
   ]
  },
  {
   "cell_type": "markdown",
   "id": "7d552d44-6aac-4505-accb-3fa85791a157",
   "metadata": {},
   "source": [
    "#### Sample Data"
   ]
  },
  {
   "cell_type": "code",
   "execution_count": 6,
   "id": "6c86df2a-da64-4cc4-8479-425f64d5626a",
   "metadata": {},
   "outputs": [
    {
     "name": "stdout",
     "output_type": "stream",
     "text": [
      "Sample data inserted successfully.\n"
     ]
    }
   ],
   "source": [
    "import pymysql\n",
    "\n",
    "db = pymysql.connect(\n",
    "    host='localhost',\n",
    "    user='root',\n",
    "    password='yummy',\n",
    "    database='fitness'\n",
    ")\n",
    "cursor = db.cursor()\n",
    "\n",
    "# Insert sample data into Users\n",
    "q1 = \"\"\"\n",
    "    INSERT INTO Users (email, name, age, height, weight) \n",
    "    VALUES \n",
    "    ('john.doe@example.com', 'John Doe', 30, 175.0, 75.0),\n",
    "    ('jane.smith@example.com', 'Jane Smith', 25, 160.0, 60.0),\n",
    "    ('mike.jones@example.com', 'Mike Jones', 35, 180.0, 85.0);\n",
    "\"\"\"\n",
    "\n",
    "# Insert sample data into Workouts\n",
    "q2 = \"\"\"\n",
    "    INSERT INTO Workouts (user_id, workout_type, duration, calories_burned, notes) \n",
    "    VALUES \n",
    "    (1, 'Running', 30, 300.0, 'Morning jog'),\n",
    "    (2, 'Cycling', 45, 350.0, 'Weekend ride'),\n",
    "    (3, 'Swimming', 60, 500.0, 'Long pool session');\n",
    "\"\"\"\n",
    "\n",
    "# Insert sample data into Exercises\n",
    "q3 = \"\"\"\n",
    "    INSERT INTO Exercises (workout_id, exercise_name, sets, reps_per_set, duration, calories_burned_per_exercise)\n",
    "    VALUES\n",
    "    (1, 'Push-ups', 3, 15, 5, 50.0),\n",
    "    (1, 'Squats', 3, 20, 5, 40.0),\n",
    "    (2, 'Leg Press', 3, 12, 10, 70.0);\n",
    "\"\"\"\n",
    "\n",
    "# Insert sample data into Goals\n",
    "q4 = \"\"\"\n",
    "    INSERT INTO Goals (user_id, goal_type, target_value, current_progress, deadline, status)\n",
    "    VALUES \n",
    "    (1, 'Weight Loss', 70.0, 75.0, '2024-06-01', 'Active'),\n",
    "    (2, 'Endurance', 60.0, 50.0, '2024-12-01', 'Active');\n",
    "\"\"\"\n",
    "\n",
    "# Insert sample data into Progress\n",
    "q5 = \"\"\"\n",
    "    INSERT INTO Progress (user_id, weight, workout_count, calories_burned, goal_id) \n",
    "    VALUES \n",
    "    (1, 75.0, 5, 1500.0, 1),\n",
    "    (2, 60.0, 8, 2500.0, 2);\n",
    "\"\"\"\n",
    "\n",
    "# Insert sample data into Diet\n",
    "q6 = \"\"\"\n",
    "    INSERT INTO Diet (user_id, meal_type, calories, protein, carbs, fats) \n",
    "    VALUES \n",
    "    (1, 'Breakfast', 500, 30, 50, 15),\n",
    "    (2, 'Lunch', 600, 40, 60, 20);\n",
    "\"\"\"\n",
    "\n",
    "# Execute queries to insert the sample data\n",
    "cursor.execute(q1)\n",
    "cursor.execute(q2)\n",
    "cursor.execute(q3)\n",
    "cursor.execute(q4)\n",
    "cursor.execute(q5)\n",
    "cursor.execute(q6)\n",
    "\n",
    "# Commit the changes to the database\n",
    "db.commit()\n",
    "\n",
    "print(\"Sample data inserted successfully.\")\n",
    "\n",
    "# Close the connection\n",
    "db.close()\n"
   ]
  },
  {
   "cell_type": "markdown",
   "id": "77e5971d-7c9b-4a1a-88b3-28210554ee4a",
   "metadata": {},
   "source": [
    "#### Triggers\n"
   ]
  },
  {
   "cell_type": "code",
   "execution_count": 1,
   "id": "321905de-f2a5-4db1-aa23-f7ef8f3ea7c0",
   "metadata": {},
   "outputs": [
    {
     "name": "stdout",
     "output_type": "stream",
     "text": [
      "Error: (1359, 'Trigger already exists')\n"
     ]
    }
   ],
   "source": [
    "import pymysql\n",
    "\n",
    "# Connect to the database\n",
    "db = pymysql.connect(\n",
    "    host='localhost',\n",
    "    user='root',\n",
    "    password='yummy',\n",
    "    database='fitness'\n",
    ")\n",
    "cursor = db.cursor()\n",
    "\n",
    "try:\n",
    "    trigger_sql = \"\"\"\n",
    "    CREATE TRIGGER UpdateProgress AFTER INSERT ON Workouts\n",
    "    FOR EACH ROW\n",
    "    BEGIN\n",
    "        UPDATE Progress\n",
    "        SET workout_count = workout_count + 1, calories_burned = calories_burned + NEW.calories_burned\n",
    "        WHERE user_id = NEW.user_id;\n",
    "    END\n",
    "    \"\"\"\n",
    "    cursor.execute(trigger_sql)\n",
    "    db.commit()\n",
    "    print(\"Trigger 'UpdateProgress' has been created.\")\n",
    "except Exception as e:\n",
    "    print(f\"Error: {e}\")\n",
    "finally:\n",
    "    db.close()\n"
   ]
  },
  {
   "cell_type": "markdown",
   "id": "e53ffd76-88bb-4d28-85f4-b11efd211699",
   "metadata": {},
   "source": [
    "#### Creating Procedure"
   ]
  },
  {
   "cell_type": "code",
   "execution_count": 7,
   "id": "d1fcc221-4bb7-4bc0-9ae7-87744374b21f",
   "metadata": {},
   "outputs": [
    {
     "name": "stdout",
     "output_type": "stream",
     "text": [
      "procedure created\n"
     ]
    }
   ],
   "source": [
    "import pymysql\n",
    "\n",
    "db = pymysql.connect(\n",
    "    host='localhost',\n",
    "    user='root',\n",
    "    password='yummy',\n",
    "    database='fitness'\n",
    ")\n",
    "cursor = db.cursor()\n",
    "try:\n",
    "    procedure_sql = \"\"\"\n",
    "    CREATE PROCEDURE GetUserWorkouts (IN userId INT)\n",
    "    BEGIN\n",
    "        SELECT workout_id, workout_type, duration, calories_burned, notes\n",
    "        FROM Workouts\n",
    "        WHERE user_id = userId;\n",
    "    END \n",
    "    \"\"\"\n",
    "    cursor.execute(procedure_sql)\n",
    "    db.commit()\n",
    "    print (\"procedure created\")\n",
    "except Exception as e:\n",
    "    print(f\"Error occurred while creating procedure: {e}\")\n",
    "finally:\n",
    "    db.close()"
   ]
  },
  {
   "cell_type": "code",
   "execution_count": null,
   "id": "c5bc0f43-03e3-4be4-854e-c88f0042b3db",
   "metadata": {},
   "outputs": [],
   "source": []
  }
 ],
 "metadata": {
  "kernelspec": {
   "display_name": "Python 3 (ipykernel)",
   "language": "python",
   "name": "python3"
  },
  "language_info": {
   "codemirror_mode": {
    "name": "ipython",
    "version": 3
   },
   "file_extension": ".py",
   "mimetype": "text/x-python",
   "name": "python",
   "nbconvert_exporter": "python",
   "pygments_lexer": "ipython3",
   "version": "3.12.7"
  }
 },
 "nbformat": 4,
 "nbformat_minor": 5
}
